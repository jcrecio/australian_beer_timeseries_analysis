{
  "nbformat": 4,
  "nbformat_minor": 0,
  "metadata": {
    "colab": {
      "provenance": []
    },
    "kernelspec": {
      "name": "python3",
      "display_name": "Python 3"
    },
    "language_info": {
      "name": "python"
    }
  },
  "cells": [
    {
      "cell_type": "markdown",
      "source": [
        "\n",
        "\n",
        "## Temporal serie: **Monthly beer production from the year 1956 to 1995 in Australia**.\n",
        "\n",
        "---\n",
        "\n",
        "*Author: Juan Carlos Recio Abad*"
      ],
      "metadata": {
        "id": "T3PleezkCnEW"
      }
    },
    {
      "cell_type": "code",
      "source": [
        "import pandas as pd\n",
        "import numpy as np\n",
        "import matplotlib.pyplot as plt\n",
        "import matplotlib.ticker as ticker\n",
        "from itertools import combinations, product\n",
        "from itertools import tee"
      ],
      "metadata": {
        "id": "FJaLhdQgE9hp"
      },
      "execution_count": 1,
      "outputs": []
    },
    {
      "cell_type": "markdown",
      "source": [
        "For the development of the time series, the original dataset can be found on Kaggle at https://www.kaggle.com/code/mpwolke/australian-monthly-beer-production.\n",
        "\n",
        "\n",
        "The production values range from 0 liters to a maximum of 220 million liters per month during the period from 1956 to 1996.\n",
        "\n",
        "\n",
        "The production values fluctuate throughout the year with some regularity, and over time, there is an upward trend due to societal changes."
      ],
      "metadata": {
        "id": "doQn-05kEN-p"
      }
    },
    {
      "cell_type": "code",
      "execution_count": 2,
      "metadata": {
        "colab": {
          "base_uri": "https://localhost:8080/",
          "height": 206
        },
        "id": "v2-Cc5z-ETb4",
        "outputId": "b0dcb6eb-43a5-4777-c41d-3dffded6dd8d"
      },
      "outputs": [
        {
          "output_type": "execute_result",
          "data": {
            "text/plain": [
              "       Mes  Producción cerveza\n",
              "0  1956-01                93.2\n",
              "1  1956-02                96.0\n",
              "2  1956-03                95.2\n",
              "3  1956-04                77.1\n",
              "4  1956-05                70.9"
            ],
            "text/html": [
              "\n",
              "\n",
              "  <div id=\"df-4240afe9-3ba0-43ab-a0e7-98904912ffc1\">\n",
              "    <div class=\"colab-df-container\">\n",
              "      <div>\n",
              "<style scoped>\n",
              "    .dataframe tbody tr th:only-of-type {\n",
              "        vertical-align: middle;\n",
              "    }\n",
              "\n",
              "    .dataframe tbody tr th {\n",
              "        vertical-align: top;\n",
              "    }\n",
              "\n",
              "    .dataframe thead th {\n",
              "        text-align: right;\n",
              "    }\n",
              "</style>\n",
              "<table border=\"1\" class=\"dataframe\">\n",
              "  <thead>\n",
              "    <tr style=\"text-align: right;\">\n",
              "      <th></th>\n",
              "      <th>Mes</th>\n",
              "      <th>Producción cerveza</th>\n",
              "    </tr>\n",
              "  </thead>\n",
              "  <tbody>\n",
              "    <tr>\n",
              "      <th>0</th>\n",
              "      <td>1956-01</td>\n",
              "      <td>93.2</td>\n",
              "    </tr>\n",
              "    <tr>\n",
              "      <th>1</th>\n",
              "      <td>1956-02</td>\n",
              "      <td>96.0</td>\n",
              "    </tr>\n",
              "    <tr>\n",
              "      <th>2</th>\n",
              "      <td>1956-03</td>\n",
              "      <td>95.2</td>\n",
              "    </tr>\n",
              "    <tr>\n",
              "      <th>3</th>\n",
              "      <td>1956-04</td>\n",
              "      <td>77.1</td>\n",
              "    </tr>\n",
              "    <tr>\n",
              "      <th>4</th>\n",
              "      <td>1956-05</td>\n",
              "      <td>70.9</td>\n",
              "    </tr>\n",
              "  </tbody>\n",
              "</table>\n",
              "</div>\n",
              "      <button class=\"colab-df-convert\" onclick=\"convertToInteractive('df-4240afe9-3ba0-43ab-a0e7-98904912ffc1')\"\n",
              "              title=\"Convert this dataframe to an interactive table.\"\n",
              "              style=\"display:none;\">\n",
              "\n",
              "  <svg xmlns=\"http://www.w3.org/2000/svg\" height=\"24px\"viewBox=\"0 0 24 24\"\n",
              "       width=\"24px\">\n",
              "    <path d=\"M0 0h24v24H0V0z\" fill=\"none\"/>\n",
              "    <path d=\"M18.56 5.44l.94 2.06.94-2.06 2.06-.94-2.06-.94-.94-2.06-.94 2.06-2.06.94zm-11 1L8.5 8.5l.94-2.06 2.06-.94-2.06-.94L8.5 2.5l-.94 2.06-2.06.94zm10 10l.94 2.06.94-2.06 2.06-.94-2.06-.94-.94-2.06-.94 2.06-2.06.94z\"/><path d=\"M17.41 7.96l-1.37-1.37c-.4-.4-.92-.59-1.43-.59-.52 0-1.04.2-1.43.59L10.3 9.45l-7.72 7.72c-.78.78-.78 2.05 0 2.83L4 21.41c.39.39.9.59 1.41.59.51 0 1.02-.2 1.41-.59l7.78-7.78 2.81-2.81c.8-.78.8-2.07 0-2.86zM5.41 20L4 18.59l7.72-7.72 1.47 1.35L5.41 20z\"/>\n",
              "  </svg>\n",
              "      </button>\n",
              "\n",
              "\n",
              "\n",
              "    <div id=\"df-31f622af-6f9d-409f-a0ca-bd55326e4cb0\">\n",
              "      <button class=\"colab-df-quickchart\" onclick=\"quickchart('df-31f622af-6f9d-409f-a0ca-bd55326e4cb0')\"\n",
              "              title=\"Suggest charts.\"\n",
              "              style=\"display:none;\">\n",
              "\n",
              "<svg xmlns=\"http://www.w3.org/2000/svg\" height=\"24px\"viewBox=\"0 0 24 24\"\n",
              "     width=\"24px\">\n",
              "    <g>\n",
              "        <path d=\"M19 3H5c-1.1 0-2 .9-2 2v14c0 1.1.9 2 2 2h14c1.1 0 2-.9 2-2V5c0-1.1-.9-2-2-2zM9 17H7v-7h2v7zm4 0h-2V7h2v10zm4 0h-2v-4h2v4z\"/>\n",
              "    </g>\n",
              "</svg>\n",
              "      </button>\n",
              "    </div>\n",
              "\n",
              "<style>\n",
              "  .colab-df-quickchart {\n",
              "    background-color: #E8F0FE;\n",
              "    border: none;\n",
              "    border-radius: 50%;\n",
              "    cursor: pointer;\n",
              "    display: none;\n",
              "    fill: #1967D2;\n",
              "    height: 32px;\n",
              "    padding: 0 0 0 0;\n",
              "    width: 32px;\n",
              "  }\n",
              "\n",
              "  .colab-df-quickchart:hover {\n",
              "    background-color: #E2EBFA;\n",
              "    box-shadow: 0px 1px 2px rgba(60, 64, 67, 0.3), 0px 1px 3px 1px rgba(60, 64, 67, 0.15);\n",
              "    fill: #174EA6;\n",
              "  }\n",
              "\n",
              "  [theme=dark] .colab-df-quickchart {\n",
              "    background-color: #3B4455;\n",
              "    fill: #D2E3FC;\n",
              "  }\n",
              "\n",
              "  [theme=dark] .colab-df-quickchart:hover {\n",
              "    background-color: #434B5C;\n",
              "    box-shadow: 0px 1px 3px 1px rgba(0, 0, 0, 0.15);\n",
              "    filter: drop-shadow(0px 1px 2px rgba(0, 0, 0, 0.3));\n",
              "    fill: #FFFFFF;\n",
              "  }\n",
              "</style>\n",
              "\n",
              "    <script>\n",
              "      async function quickchart(key) {\n",
              "        const containerElement = document.querySelector('#' + key);\n",
              "        const charts = await google.colab.kernel.invokeFunction(\n",
              "            'suggestCharts', [key], {});\n",
              "      }\n",
              "    </script>\n",
              "\n",
              "      <script>\n",
              "\n",
              "function displayQuickchartButton(domScope) {\n",
              "  let quickchartButtonEl =\n",
              "    domScope.querySelector('#df-31f622af-6f9d-409f-a0ca-bd55326e4cb0 button.colab-df-quickchart');\n",
              "  quickchartButtonEl.style.display =\n",
              "    google.colab.kernel.accessAllowed ? 'block' : 'none';\n",
              "}\n",
              "\n",
              "        displayQuickchartButton(document);\n",
              "      </script>\n",
              "      <style>\n",
              "    .colab-df-container {\n",
              "      display:flex;\n",
              "      flex-wrap:wrap;\n",
              "      gap: 12px;\n",
              "    }\n",
              "\n",
              "    .colab-df-convert {\n",
              "      background-color: #E8F0FE;\n",
              "      border: none;\n",
              "      border-radius: 50%;\n",
              "      cursor: pointer;\n",
              "      display: none;\n",
              "      fill: #1967D2;\n",
              "      height: 32px;\n",
              "      padding: 0 0 0 0;\n",
              "      width: 32px;\n",
              "    }\n",
              "\n",
              "    .colab-df-convert:hover {\n",
              "      background-color: #E2EBFA;\n",
              "      box-shadow: 0px 1px 2px rgba(60, 64, 67, 0.3), 0px 1px 3px 1px rgba(60, 64, 67, 0.15);\n",
              "      fill: #174EA6;\n",
              "    }\n",
              "\n",
              "    [theme=dark] .colab-df-convert {\n",
              "      background-color: #3B4455;\n",
              "      fill: #D2E3FC;\n",
              "    }\n",
              "\n",
              "    [theme=dark] .colab-df-convert:hover {\n",
              "      background-color: #434B5C;\n",
              "      box-shadow: 0px 1px 3px 1px rgba(0, 0, 0, 0.15);\n",
              "      filter: drop-shadow(0px 1px 2px rgba(0, 0, 0, 0.3));\n",
              "      fill: #FFFFFF;\n",
              "    }\n",
              "  </style>\n",
              "\n",
              "      <script>\n",
              "        const buttonEl =\n",
              "          document.querySelector('#df-4240afe9-3ba0-43ab-a0e7-98904912ffc1 button.colab-df-convert');\n",
              "        buttonEl.style.display =\n",
              "          google.colab.kernel.accessAllowed ? 'block' : 'none';\n",
              "\n",
              "        async function convertToInteractive(key) {\n",
              "          const element = document.querySelector('#df-4240afe9-3ba0-43ab-a0e7-98904912ffc1');\n",
              "          const dataTable =\n",
              "            await google.colab.kernel.invokeFunction('convertToInteractive',\n",
              "                                                     [key], {});\n",
              "          if (!dataTable) return;\n",
              "\n",
              "          const docLinkHtml = 'Like what you see? Visit the ' +\n",
              "            '<a target=\"_blank\" href=https://colab.research.google.com/notebooks/data_table.ipynb>data table notebook</a>'\n",
              "            + ' to learn more about interactive tables.';\n",
              "          element.innerHTML = '';\n",
              "          dataTable['output_type'] = 'display_data';\n",
              "          await google.colab.output.renderOutput(dataTable, element);\n",
              "          const docLink = document.createElement('div');\n",
              "          docLink.innerHTML = docLinkHtml;\n",
              "          element.appendChild(docLink);\n",
              "        }\n",
              "      </script>\n",
              "    </div>\n",
              "  </div>\n"
            ]
          },
          "metadata": {},
          "execution_count": 2
        }
      ],
      "source": [
        "url = 'https://raw.githubusercontent.com/jcrecio/australian_beer_timeseries_analysis/main/datasetraw.csv'\n",
        "csv = pd.read_csv(url, sep=\",\")\n",
        "csv.head()"
      ]
    },
    {
      "cell_type": "code",
      "source": [
        "csv.tail()"
      ],
      "metadata": {
        "colab": {
          "base_uri": "https://localhost:8080/",
          "height": 206
        },
        "id": "MS-x0WiNVV5d",
        "outputId": "0730c758-d632-4a35-d1b6-c1b24ec0a176"
      },
      "execution_count": 3,
      "outputs": [
        {
          "output_type": "execute_result",
          "data": {
            "text/plain": [
              "         Mes  Producción cerveza\n",
              "471  1995-04               127.0\n",
              "472  1995-05               151.0\n",
              "473  1995-06               130.0\n",
              "474  1995-07               119.0\n",
              "475  1995-08               153.0"
            ],
            "text/html": [
              "\n",
              "\n",
              "  <div id=\"df-322e8c90-e259-4c02-b0b8-0b360db7cb9d\">\n",
              "    <div class=\"colab-df-container\">\n",
              "      <div>\n",
              "<style scoped>\n",
              "    .dataframe tbody tr th:only-of-type {\n",
              "        vertical-align: middle;\n",
              "    }\n",
              "\n",
              "    .dataframe tbody tr th {\n",
              "        vertical-align: top;\n",
              "    }\n",
              "\n",
              "    .dataframe thead th {\n",
              "        text-align: right;\n",
              "    }\n",
              "</style>\n",
              "<table border=\"1\" class=\"dataframe\">\n",
              "  <thead>\n",
              "    <tr style=\"text-align: right;\">\n",
              "      <th></th>\n",
              "      <th>Mes</th>\n",
              "      <th>Producción cerveza</th>\n",
              "    </tr>\n",
              "  </thead>\n",
              "  <tbody>\n",
              "    <tr>\n",
              "      <th>471</th>\n",
              "      <td>1995-04</td>\n",
              "      <td>127.0</td>\n",
              "    </tr>\n",
              "    <tr>\n",
              "      <th>472</th>\n",
              "      <td>1995-05</td>\n",
              "      <td>151.0</td>\n",
              "    </tr>\n",
              "    <tr>\n",
              "      <th>473</th>\n",
              "      <td>1995-06</td>\n",
              "      <td>130.0</td>\n",
              "    </tr>\n",
              "    <tr>\n",
              "      <th>474</th>\n",
              "      <td>1995-07</td>\n",
              "      <td>119.0</td>\n",
              "    </tr>\n",
              "    <tr>\n",
              "      <th>475</th>\n",
              "      <td>1995-08</td>\n",
              "      <td>153.0</td>\n",
              "    </tr>\n",
              "  </tbody>\n",
              "</table>\n",
              "</div>\n",
              "      <button class=\"colab-df-convert\" onclick=\"convertToInteractive('df-322e8c90-e259-4c02-b0b8-0b360db7cb9d')\"\n",
              "              title=\"Convert this dataframe to an interactive table.\"\n",
              "              style=\"display:none;\">\n",
              "\n",
              "  <svg xmlns=\"http://www.w3.org/2000/svg\" height=\"24px\"viewBox=\"0 0 24 24\"\n",
              "       width=\"24px\">\n",
              "    <path d=\"M0 0h24v24H0V0z\" fill=\"none\"/>\n",
              "    <path d=\"M18.56 5.44l.94 2.06.94-2.06 2.06-.94-2.06-.94-.94-2.06-.94 2.06-2.06.94zm-11 1L8.5 8.5l.94-2.06 2.06-.94-2.06-.94L8.5 2.5l-.94 2.06-2.06.94zm10 10l.94 2.06.94-2.06 2.06-.94-2.06-.94-.94-2.06-.94 2.06-2.06.94z\"/><path d=\"M17.41 7.96l-1.37-1.37c-.4-.4-.92-.59-1.43-.59-.52 0-1.04.2-1.43.59L10.3 9.45l-7.72 7.72c-.78.78-.78 2.05 0 2.83L4 21.41c.39.39.9.59 1.41.59.51 0 1.02-.2 1.41-.59l7.78-7.78 2.81-2.81c.8-.78.8-2.07 0-2.86zM5.41 20L4 18.59l7.72-7.72 1.47 1.35L5.41 20z\"/>\n",
              "  </svg>\n",
              "      </button>\n",
              "\n",
              "\n",
              "\n",
              "    <div id=\"df-a82ef32d-23b9-4a90-9512-d5a66b90f449\">\n",
              "      <button class=\"colab-df-quickchart\" onclick=\"quickchart('df-a82ef32d-23b9-4a90-9512-d5a66b90f449')\"\n",
              "              title=\"Suggest charts.\"\n",
              "              style=\"display:none;\">\n",
              "\n",
              "<svg xmlns=\"http://www.w3.org/2000/svg\" height=\"24px\"viewBox=\"0 0 24 24\"\n",
              "     width=\"24px\">\n",
              "    <g>\n",
              "        <path d=\"M19 3H5c-1.1 0-2 .9-2 2v14c0 1.1.9 2 2 2h14c1.1 0 2-.9 2-2V5c0-1.1-.9-2-2-2zM9 17H7v-7h2v7zm4 0h-2V7h2v10zm4 0h-2v-4h2v4z\"/>\n",
              "    </g>\n",
              "</svg>\n",
              "      </button>\n",
              "    </div>\n",
              "\n",
              "<style>\n",
              "  .colab-df-quickchart {\n",
              "    background-color: #E8F0FE;\n",
              "    border: none;\n",
              "    border-radius: 50%;\n",
              "    cursor: pointer;\n",
              "    display: none;\n",
              "    fill: #1967D2;\n",
              "    height: 32px;\n",
              "    padding: 0 0 0 0;\n",
              "    width: 32px;\n",
              "  }\n",
              "\n",
              "  .colab-df-quickchart:hover {\n",
              "    background-color: #E2EBFA;\n",
              "    box-shadow: 0px 1px 2px rgba(60, 64, 67, 0.3), 0px 1px 3px 1px rgba(60, 64, 67, 0.15);\n",
              "    fill: #174EA6;\n",
              "  }\n",
              "\n",
              "  [theme=dark] .colab-df-quickchart {\n",
              "    background-color: #3B4455;\n",
              "    fill: #D2E3FC;\n",
              "  }\n",
              "\n",
              "  [theme=dark] .colab-df-quickchart:hover {\n",
              "    background-color: #434B5C;\n",
              "    box-shadow: 0px 1px 3px 1px rgba(0, 0, 0, 0.15);\n",
              "    filter: drop-shadow(0px 1px 2px rgba(0, 0, 0, 0.3));\n",
              "    fill: #FFFFFF;\n",
              "  }\n",
              "</style>\n",
              "\n",
              "    <script>\n",
              "      async function quickchart(key) {\n",
              "        const containerElement = document.querySelector('#' + key);\n",
              "        const charts = await google.colab.kernel.invokeFunction(\n",
              "            'suggestCharts', [key], {});\n",
              "      }\n",
              "    </script>\n",
              "\n",
              "      <script>\n",
              "\n",
              "function displayQuickchartButton(domScope) {\n",
              "  let quickchartButtonEl =\n",
              "    domScope.querySelector('#df-a82ef32d-23b9-4a90-9512-d5a66b90f449 button.colab-df-quickchart');\n",
              "  quickchartButtonEl.style.display =\n",
              "    google.colab.kernel.accessAllowed ? 'block' : 'none';\n",
              "}\n",
              "\n",
              "        displayQuickchartButton(document);\n",
              "      </script>\n",
              "      <style>\n",
              "    .colab-df-container {\n",
              "      display:flex;\n",
              "      flex-wrap:wrap;\n",
              "      gap: 12px;\n",
              "    }\n",
              "\n",
              "    .colab-df-convert {\n",
              "      background-color: #E8F0FE;\n",
              "      border: none;\n",
              "      border-radius: 50%;\n",
              "      cursor: pointer;\n",
              "      display: none;\n",
              "      fill: #1967D2;\n",
              "      height: 32px;\n",
              "      padding: 0 0 0 0;\n",
              "      width: 32px;\n",
              "    }\n",
              "\n",
              "    .colab-df-convert:hover {\n",
              "      background-color: #E2EBFA;\n",
              "      box-shadow: 0px 1px 2px rgba(60, 64, 67, 0.3), 0px 1px 3px 1px rgba(60, 64, 67, 0.15);\n",
              "      fill: #174EA6;\n",
              "    }\n",
              "\n",
              "    [theme=dark] .colab-df-convert {\n",
              "      background-color: #3B4455;\n",
              "      fill: #D2E3FC;\n",
              "    }\n",
              "\n",
              "    [theme=dark] .colab-df-convert:hover {\n",
              "      background-color: #434B5C;\n",
              "      box-shadow: 0px 1px 3px 1px rgba(0, 0, 0, 0.15);\n",
              "      filter: drop-shadow(0px 1px 2px rgba(0, 0, 0, 0.3));\n",
              "      fill: #FFFFFF;\n",
              "    }\n",
              "  </style>\n",
              "\n",
              "      <script>\n",
              "        const buttonEl =\n",
              "          document.querySelector('#df-322e8c90-e259-4c02-b0b8-0b360db7cb9d button.colab-df-convert');\n",
              "        buttonEl.style.display =\n",
              "          google.colab.kernel.accessAllowed ? 'block' : 'none';\n",
              "\n",
              "        async function convertToInteractive(key) {\n",
              "          const element = document.querySelector('#df-322e8c90-e259-4c02-b0b8-0b360db7cb9d');\n",
              "          const dataTable =\n",
              "            await google.colab.kernel.invokeFunction('convertToInteractive',\n",
              "                                                     [key], {});\n",
              "          if (!dataTable) return;\n",
              "\n",
              "          const docLinkHtml = 'Like what you see? Visit the ' +\n",
              "            '<a target=\"_blank\" href=https://colab.research.google.com/notebooks/data_table.ipynb>data table notebook</a>'\n",
              "            + ' to learn more about interactive tables.';\n",
              "          element.innerHTML = '';\n",
              "          dataTable['output_type'] = 'display_data';\n",
              "          await google.colab.output.renderOutput(dataTable, element);\n",
              "          const docLink = document.createElement('div');\n",
              "          docLink.innerHTML = docLinkHtml;\n",
              "          element.appendChild(docLink);\n",
              "        }\n",
              "      </script>\n",
              "    </div>\n",
              "  </div>\n"
            ]
          },
          "metadata": {},
          "execution_count": 3
        }
      ]
    },
    {
      "cell_type": "markdown",
      "source": [
        "Evolución temporal del valor de la producción de cerveza con el tiempo (por mes)"
      ],
      "metadata": {
        "id": "8je17DkOFmIt"
      }
    },
    {
      "cell_type": "code",
      "source": [
        "ax = csv.plot(lw=1, colormap='RdYlGn_r', marker='.', markersize=2, title='Monthly beer production - Australia')\n",
        "\n",
        "ax.set(xlabel=\"Month\", ylabel=\"Production\")"
      ],
      "metadata": {
        "colab": {
          "base_uri": "https://localhost:8080/",
          "height": 489
        },
        "id": "h_Smmm_Dpt0V",
        "outputId": "64afefca-65b8-424c-e3a9-0e58e93afa2a"
      },
      "execution_count": 4,
      "outputs": [
        {
          "output_type": "execute_result",
          "data": {
            "text/plain": [
              "[Text(0.5, 0, 'Month'), Text(0, 0.5, 'Production')]"
            ]
          },
          "metadata": {},
          "execution_count": 4
        },
        {
          "output_type": "display_data",
          "data": {
            "text/plain": [
              "<Figure size 640x480 with 1 Axes>"
            ],
            "image/png": "[encoded data removed]"
          },
          "metadata": {}
        }
      ]
    },
    {
      "cell_type": "markdown",
      "source": [
        "\n",
        "## Discretización\n",
        "Since the values are in the interval [0,200,000,000] = [0,200M] = [0,200], the values can be discretized into subintervals of 25.\n",
        "\n",
        "*   [0,25] = 0\n",
        "*   (25, 50] = 1\n",
        "*   (50, 75] = 2\n",
        "*   ...\n",
        "*   (175, 200] = 7\n",
        "*   (200, 220] = 8\n"
      ],
      "metadata": {
        "id": "QRrAa0MvQOdZ"
      }
    },
    {
      "cell_type": "code",
      "source": [
        "# Temporal serie construction from csv\n",
        "serie = csv.loc[:,\"Producción cerveza\"]\n",
        "serie = round(serie / 25).astype('int')\n",
        "serie.head()"
      ],
      "metadata": {
        "colab": {
          "base_uri": "https://localhost:8080/"
        },
        "id": "5haf4Xg4L4AI",
        "outputId": "2f6032dd-3778-4299-9e2d-d3b4ba5a259d"
      },
      "execution_count": 6,
      "outputs": [
        {
          "output_type": "execute_result",
          "data": {
            "text/plain": [
              "0    4\n",
              "1    4\n",
              "2    4\n",
              "3    3\n",
              "4    3\n",
              "Name: Producción cerveza, dtype: int64"
            ]
          },
          "metadata": {},
          "execution_count": 6
        }
      ]
    },
    {
      "cell_type": "code",
      "source": [
        "serie.tail()"
      ],
      "metadata": {
        "colab": {
          "base_uri": "https://localhost:8080/"
        },
        "id": "tokXAZekVf_l",
        "outputId": "affe1b56-130c-41b6-fd56-be09c48b5d19"
      },
      "execution_count": 7,
      "outputs": [
        {
          "output_type": "execute_result",
          "data": {
            "text/plain": [
              "471    5\n",
              "472    6\n",
              "473    5\n",
              "474    5\n",
              "475    6\n",
              "Name: Producción cerveza, dtype: int64"
            ]
          },
          "metadata": {},
          "execution_count": 7
        }
      ]
    },
    {
      "cell_type": "markdown",
      "source": [
        "# PST Vocabulary\n",
        "Σ = 0,1,2,3,4,5,6,7,8"
      ],
      "metadata": {
        "id": "CpbZE4b7Salc"
      }
    },
    {
      "cell_type": "code",
      "source": [
        "vocabulary = [0,1,2,3,4,5,6,7,8,9]"
      ],
      "metadata": {
        "id": "5er-9BUOveEb"
      },
      "execution_count": 8,
      "outputs": []
    },
    {
      "cell_type": "markdown",
      "source": [
        "##Orden: 1"
      ],
      "metadata": {
        "id": "vMTZ8WvgVakv"
      }
    },
    {
      "cell_type": "markdown",
      "source": [
        "##Estados:"
      ],
      "metadata": {
        "id": "vfN2exgIdQsE"
      }
    },
    {
      "cell_type": "code",
      "source": [
        "# First 50 values of the serie\n",
        "y = \"Serie=\"\n",
        "count = 0\n",
        "for x in serie:\n",
        "  y = y + \",\" + str(x)\n",
        "  count+=1\n",
        "  if (count == 50): print(y + \",\" + str(x) + \"...\")\n"
      ],
      "metadata": {
        "colab": {
          "base_uri": "https://localhost:8080/"
        },
        "id": "xXDBJU5rwXqN",
        "outputId": "292671ef-8f11-4e8f-92d0-2ecf0067fd08"
      },
      "execution_count": 9,
      "outputs": [
        {
          "output_type": "stream",
          "name": "stdout",
          "text": [
            "Serie=,4,4,4,3,3,3,3,3,3,4,4,4,4,3,3,3,3,3,3,3,4,4,4,5,4,3,4,3,3,3,3,3,3,4,4,5,4,3,3,3,3,3,3,3,4,4,4,5,4,4,4...\n"
          ]
        }
      ]
    },
    {
      "cell_type": "markdown",
      "source": [
        "This series of numbers represents the **monthly beer production in Australia.**"
      ],
      "metadata": {
        "id": "Ls1AeUcT1P76"
      }
    },
    {
      "cell_type": "markdown",
      "source": [
        "###How to calculate the transition matrix:\n",
        "\n",
        "Given a time series T, states defined by Q=q1,q2,q3,...,qn, and the symbol alphabet ∑=x1,x2,..., xn,\n",
        "\n",
        "To calculate the transition matrix: For each state qi, count the number of subsequent symbols, and obtain the frequency of each symbol throughout the series. The total sum of all frequencies from that state to all its symbols should be 1.\n",
        "\n",
        "For each transition from state qi to the next symbol xj, there is an entry in the matrix.\n",
        "\n",
        "The sum of values in each row of the matrix should be 1 since it represents the sum of all probabilities from a state to all symbols it transitions to.\n",
        "\n",
        "As for constructing the matrix with the beer production series for order = 2: 4,4,4,3,3,3,3,3,3,4,4,4,4,3,3,3,3,3,3,3,4,4,4,5,4,3,4,3,3,3,3,3,3,4,4,5,4,3,3,3,3,3,3,3,4,4,4,5,4,4,4...\n",
        "\n",
        "P(4 | 4) = the number of times 4 occurs right after 4 in the entire series = 1/(frequency of 4 after 4) = X\n",
        "\n",
        "P(3 | 4) = the number of times 3 occurs right after 4 in the entire series = 1/(frequency of 3 after 4) = X'\n",
        "\n",
        "...\n",
        "\n",
        "P(3 | 5) = the number of times 3 occurs right after 5 in the entire series = 1/(frequency of 3 after 5) = Y\n",
        "\n",
        "P(2 | 3) = the number of times 2 occurs right after 3 in the entire series = 1/(frequency of 2 after 3) = Z\n",
        "\n",
        "etc.\n",
        "\n",
        "\n",
        "```\n",
        "    1   2   3   4   5  ..\n",
        "   ___________________________\n",
        ".. |..........................\n",
        "2  |........Z................. Z'+Z+..=1\n",
        "3  |..........................\n",
        "4  |........X'...X............ X'+X+..=1\n",
        "5  |........Y................. Y+..Y' =1\n",
        ".. |..........................\n",
        "27 |..........................\n",
        "```"
      ],
      "metadata": {
        "id": "bef_GTVUoeJo"
      }
    },
    {
      "cell_type": "code",
      "source": [
        "def get_transition_matrix(serie):\n",
        "    states = max(serie)+1\n",
        "    matrix = [[0]*states for _ in range(states)]\n",
        "\n",
        "    for (x,y) in zip(serie,serie[1:]): matrix[x][y] += 1\n",
        "    for row in matrix:\n",
        "        s = sum(row)\n",
        "        if s > 0: row[:] = [r/s for r in row]\n",
        "\n",
        "    return matrix\n"
      ],
      "metadata": {
        "id": "tgXSLtUn_ynu"
      },
      "execution_count": 10,
      "outputs": []
    },
    {
      "cell_type": "markdown",
      "source": [
        "### Transition order-1 matrix"
      ],
      "metadata": {
        "id": "T8d-QIvlRmlz"
      }
    },
    {
      "cell_type": "code",
      "source": [
        "m = get_transition_matrix(serie)\n",
        "for row in m: print(' '.join('{0:.2f}'.format(x) for x in row))"
      ],
      "metadata": {
        "colab": {
          "base_uri": "https://localhost:8080/"
        },
        "id": "RToFozH8jXs2",
        "outputId": "049308b1-60f4-4312-c4a0-85637ed546a7"
      },
      "execution_count": 11,
      "outputs": [
        {
          "output_type": "stream",
          "name": "stdout",
          "text": [
            "0.00 0.00 0.00 0.00 0.00 0.00 0.00 0.00 0.00 0.00\n",
            "0.00 0.00 0.00 0.00 0.00 0.00 0.00 0.00 0.00 0.00\n",
            "0.00 0.00 0.00 0.00 0.00 0.00 0.00 0.00 0.00 0.00\n",
            "0.00 0.00 0.00 0.70 0.30 0.00 0.00 0.00 0.00 0.00\n",
            "0.00 0.00 0.00 0.16 0.59 0.23 0.01 0.00 0.00 0.00\n",
            "0.00 0.00 0.00 0.01 0.14 0.47 0.31 0.07 0.01 0.00\n",
            "0.00 0.00 0.00 0.00 0.01 0.24 0.51 0.21 0.04 0.00\n",
            "0.00 0.00 0.00 0.00 0.00 0.10 0.43 0.25 0.21 0.01\n",
            "0.00 0.00 0.00 0.00 0.00 0.00 0.27 0.40 0.30 0.03\n",
            "0.00 0.00 0.00 0.00 0.00 0.00 0.50 0.50 0.00 0.00\n"
          ]
        }
      ]
    },
    {
      "cell_type": "markdown",
      "source": [
        "```\n",
        "      0    1    2    3    4    5    6    7    8    9    \n",
        "0 | 0.00 0.00 0.00 0.00 0.00 0.00 0.00 0.00 0.00 0.00\n",
        "1 | 0.00 0.00 0.00 0.00 0.00 0.00 0.00 0.00 0.00 0.00\n",
        "2 | 0.00 0.00 0.00 0.00 0.00 0.00 0.00 0.00 0.00 0.00\n",
        "3 | 0.00 0.00 0.00 0.70 0.30 0.00 0.00 0.00 0.00 0.00 -> 0.70 + 0.30 = 1\n",
        "4 | 0.00 0.00 0.00 0.16 0.59 0.23 0.01 0.00 0.00 0.00 -> 0.16 + 0.59 + 0.23 + 0.01 = 1\n",
        "5 | 0.00 0.00 0.00 0.01 0.14 0.47 0.31 0.07 0.01 0.00 -> 0.1 + 0.14 + 0.47 + 0.31 + 0.07 + 0.01 = 1\n",
        "6 | 0.00 0.00 0.00 0.00 0.01 0.24 0.51 0.21 0.04 0.00 -> 0.01 + 0.24 + 0.51 + 0.04 = 1\n",
        "7 | 0.00 0.00 0.00 0.00 0.00 0.10 0.43 0.25 0.21 0.01 -> 0.10 + 0.43 + 0.25 + 0.21 + 0.01 = 1\n",
        "8 | 0.00 0.00 0.00 0.00 0.00 0.00 0.27 0.40 0.30 0.03 -> 0.27 + 0.40 + 0.30 + 0.03 = 1\n",
        "9 | 0.00 0.00 0.00 0.00 0.00 0.00 0.50 0.50 0.00 0.00 -> 0.50 + 0.50 = 1\n",
        "```"
      ],
      "metadata": {
        "id": "LsjQ6co0TiS_"
      }
    },
    {
      "cell_type": "markdown",
      "source": [
        "Order 2"
      ],
      "metadata": {
        "id": "YS9CCDJxVkKX"
      }
    },
    {
      "cell_type": "code",
      "source": [
        "serie_order_2 = []\n",
        "partial = ''\n",
        "for item in serie:\n",
        "  if(len(partial)==2):\n",
        "    serie_order_2.append(partial)\n",
        "    partial = str(item)\n",
        "  else:\n",
        "    partial += str(item)\n",
        "\n",
        "states_order_2 = list(set(serie_order_2))\n"
      ],
      "metadata": {
        "id": "I_qOBaAWV0pq"
      },
      "execution_count": 12,
      "outputs": []
    },
    {
      "cell_type": "markdown",
      "source": [
        "The states of order 2 represent the **bi-monthly beer production in Australia.**\n",
        "##Order-2 matrix"
      ],
      "metadata": {
        "id": "O_HvrH6Nnjfn"
      }
    },
    {
      "cell_type": "markdown",
      "source": [
        "How to construct the matrix with the beer production for order = 2: 4,4,4,3,3,3,3,3,3,4,4,4,4,3,3,3,3,3,3,3,4,4,4,5,4,3,4,3,3,3,3,3,3,4,4,5,4,3,3,3,3,3,3,3,4,4,4,5,4,4,4...\n",
        "\n",
        "P(4 | 44) = the number of times 4 occurs after 44 in the entire series = 1/(frequency of 4 after 44) = X\n",
        "\n",
        "P(4 | 57) = the number of times 4 occurs after 57 in the entire series = 1/(frequency of 4 after 57) = Y\n",
        "\n",
        "P(1 | 32) = the number of times 1 occurs after 32 in the entire series = 1/(frequency of 1 after 32) = Z\n",
        "\n",
        "etc.\n",
        "```\n",
        "    1   2   3   4   5  ..\n",
        "   ___________________________\n",
        ".. |..........................\n",
        "32 |Z.........................\n",
        ".. |..........................\n",
        "44 |............X.............\n",
        ".. |..........................\n",
        "57 |............Y.............\n",
        ".. |..........................\n",
        "```"
      ],
      "metadata": {
        "id": "M_0dUZBspSQH"
      }
    },
    {
      "cell_type": "markdown",
      "source": [
        "### Generation of Transition Matrices of Order Higher than 1\n",
        "\n",
        "I have created this alternative method for generating transition matrices of order N greater than 1 because the previous method did not accurately calculate the next symbol for each state."
      ],
      "metadata": {
        "id": "1KZWuxlbtwXo"
      }
    },
    {
      "cell_type": "code",
      "source": [
        "def get_transition_matrix_order(states, serie, orden=2):\n",
        "  matrix = {}\n",
        "  states_count = {}\n",
        "  for state in states:\n",
        "    matrix[state] = {}\n",
        "    states_count[state] = 0\n",
        "\n",
        "  count = len(serie)\n",
        "  i = 0\n",
        "  index = 0\n",
        "  acc = ''\n",
        "  for item in serie:\n",
        "    if (index != orden):\n",
        "      acc += str(item)\n",
        "      index += 1\n",
        "    else:\n",
        "      index = 0\n",
        "      if (i+1 < count -1):\n",
        "        if (acc in matrix):\n",
        "          state = matrix[acc]\n",
        "          if(serie[i+1] not in state): state[serie[i+1]]=0\n",
        "          count_item = state[serie[i+1]]\n",
        "          state[serie[i+1]] = count_item + 1\n",
        "          states_count[acc] = states_count[acc] + 1\n",
        "      acc = ''\n",
        "    i+=1\n",
        "\n",
        "  for est in matrix:\n",
        "    for sim in matrix[est]:\n",
        "      matrix[est][sim] = matrix[est][sim] / states_count[est]\n",
        "\n",
        "\n",
        "  return matrix\n",
        "\n",
        "def display_matrix(matrix, vocabulary):\n",
        "  header = '  |'\n",
        "  for v in vocabulary:\n",
        "    header += ' ' + str(v)\n",
        "  print(header)\n",
        "  for est in matrix:\n",
        "    fila = est + '|'\n",
        "    for v in vocabulary:\n",
        "      if (v not in matrix[est]):\n",
        "        fila += ' 0'\n",
        "      else:\n",
        "        fila += ' ' + str(matrix[est][v])\n",
        "    print(fila)\n",
        "\n",
        "m2 = get_transition_matrix_order(states_order_2, serie)\n",
        "display_matrix(m2, vocabulary)"
      ],
      "metadata": {
        "colab": {
          "base_uri": "https://localhost:8080/"
        },
        "id": "7NvWeKpJeBeW",
        "outputId": "f78565d3-e749-493b-95f9-05db0594f8f5"
      },
      "execution_count": 14,
      "outputs": [
        {
          "output_type": "stream",
          "name": "stdout",
          "text": [
            "  | 0 1 2 3 4 5 6 7 8 9\n",
            "43| 0 0 0 0.8 0.2 0 0 0 0 0\n",
            "87| 0 0 0 0 0 0 0.6666666666666666 0.3333333333333333 0 0\n",
            "34| 0 0 0 0.25 0.25 0.5 0 0 0 0\n",
            "45| 0 0 0 0 0.6666666666666666 0.3333333333333333 0 0 0 0\n",
            "66| 0 0 0 0 0 0.15789473684210525 0.5263157894736842 0.21052631578947367 0.10526315789473684 0\n",
            "65| 0 0 0 0 0 0.36363636363636365 0.36363636363636365 0.2727272727272727 0 0\n",
            "77| 0 0 0 0 0 0 0.8333333333333334 0.16666666666666666 0 0\n",
            "57| 0 0 0 0 0 0 0 1.0 0 0\n",
            "53| 0 0 0 0 0 0 0 0 0 0\n",
            "79| 0 0 0 0 0 0 0 0 0 0\n",
            "58| 0 0 0 0 0 0 0 0 0 0\n",
            "56| 0 0 0 0 0 0.4444444444444444 0.3333333333333333 0.2222222222222222 0 0\n",
            "64| 0 0 0 0 0 0 0 0 0 0\n",
            "75| 0 0 0 0 0 0 1.0 0 0 0\n",
            "67| 0 0 0 0 0 0.125 0.75 0 0.125 0\n",
            "88| 0 0 0 0 0 0 0.5 0.5 0 0\n",
            "68| 0 0 0 0 0 0 1.0 0 0 0\n",
            "76| 0 0 0 0 0 0 0.875 0.125 0 0\n",
            "78| 0 0 0 0 0 0 0.2857142857142857 0.7142857142857143 0 0\n",
            "89| 0 0 0 0 0 0 0 0 0 0\n",
            "54| 0 0 0 0 0.5 0.5 0 0 0 0\n",
            "44| 0 0 0 0.21052631578947367 0.5789473684210527 0.15789473684210525 0.05263157894736842 0 0 0\n",
            "55| 0 0 0 0 0.2777777777777778 0.5 0.2222222222222222 0 0 0\n",
            "33| 0 0 0 0.5454545454545454 0.45454545454545453 0 0 0 0 0\n"
          ]
        }
      ]
    },
    {
      "cell_type": "markdown",
      "source": [
        "##Order-3 matrix"
      ],
      "metadata": {
        "id": "DdSNCgyXeCjI"
      }
    },
    {
      "cell_type": "code",
      "source": [
        "serie_order_3 = []\n",
        "partial = ''\n",
        "for item in serie:\n",
        "  if(len(partial)==3):\n",
        "    serie_order_3.append(partial)\n",
        "    partial = str(item)\n",
        "  else:\n",
        "    partial += str(item)\n",
        "\n",
        "states_order_3 = list(set(serie_order_3))\n",
        "\n",
        "m3 = get_transition_matrix_order(states_order_3, serie, 3)\n",
        "display_matrix(m3, vocabulary)"
      ],
      "metadata": {
        "colab": {
          "base_uri": "https://localhost:8080/"
        },
        "id": "CFzVas2_bJlf",
        "outputId": "c7f4aec3-2cc0-4572-fa9f-148914fb41cc"
      },
      "execution_count": 15,
      "outputs": [
        {
          "output_type": "stream",
          "name": "stdout",
          "text": [
            "  | 0 1 2 3 4 5 6 7 8 9\n",
            "766| 0 0 0 0 0 0 0.8 0 0.2 0\n",
            "434| 0 0 0 0.5 0.5 0 0 0 0 0\n",
            "567| 0 0 0 0 0 1.0 0 0 0 0\n",
            "877| 0 0 0 0 0 0 1.0 0 0 0\n",
            "565| 0 0 0 0 0 1.0 0 0 0 0\n",
            "566| 0 0 0 0 0 0.5 0.5 0 0 0\n",
            "787| 0 0 0 0 0 0 0 0 0 0\n",
            "555| 0 0 0 0 0.2 0.5 0.3 0 0 0\n",
            "564| 0 0 0 0 0 0 0 0 0 0\n",
            "433| 0 0 0 0.5 0.5 0 0 0 0 0\n",
            "665| 0 0 0 0 0 0 0 1.0 0 0\n",
            "679| 0 0 0 0 0 0 0 0 0 0\n",
            "757| 0 0 0 0 0 1.0 0 0 0 0\n",
            "334| 0 0 0 0 0 0 0 0 0 0\n",
            "455| 0 0 0 0 0.6666666666666666 0.3333333333333333 0 0 0 0\n",
            "444| 0 0 0 0.4 0.5 0.1 0 0 0 0\n",
            "553| 0 0 0 0 0 0 0 0 0 0\n",
            "768| 0 0 0 0 0 0 0 0 0 0\n",
            "667| 0 0 0 0 0 0.2857142857142857 0.7142857142857143 0 0 0\n",
            "666| 0 0 0 0 0 0.3333333333333333 0.6666666666666666 0 0 0\n",
            "888| 0 0 0 0 0 0 0 0 0 0\n",
            "788| 0 0 0 0 0 0 0 0 0 0\n",
            "655| 0 0 0 0 0 0 0.5 0.5 0 0\n",
            "767| 0 0 0 0 0 0 1.0 0 0 0\n",
            "677| 0 0 0 0 0 0 1.0 0 0 0\n",
            "556| 0 0 0 0 0 0.4 0.6 0 0 0\n",
            "676| 0 0 0 0 0 0 0 1.0 0 0\n",
            "687| 0 0 0 0 0 0 0.5 0.5 0 0\n",
            "777| 0 0 0 0 0 0 0.5 0.5 0 0\n",
            "668| 0 0 0 0 0 0 1.0 0 0 0\n",
            "344| 0 0 0 0 0.6666666666666666 0.3333333333333333 0 0 0 0\n",
            "778| 0 0 0 0 0 0 0 1.0 0 0\n",
            "755| 0 0 0 0 0 0 0 0 0 0\n",
            "678| 0 0 0 0 0 0 0.4 0.6 0 0\n",
            "443| 0 0 0 0 0 0 0 0 0 0\n",
            "576| 0 0 0 0 0 0 0 0 0 0\n",
            "789| 0 0 0 0 0 0 0 0 0 0\n",
            "657| 0 0 0 0 0 1.0 0 0 0 0\n",
            "333| 0 0 0 0.3333333333333333 0.6666666666666666 0 0 0 0 0\n",
            "454| 0 0 0 0 1.0 0 0 0 0 0\n",
            "878| 0 0 0 0 0 0 0 0 0 0\n",
            "445| 0 0 0 0 1.0 0 0 0 0 0\n",
            "343| 0 0 0 0 0 0 0 0 0 0\n",
            "656| 0 0 0 0 0 0.2727272727272727 0.5454545454545454 0.18181818181818182 0 0\n",
            "554| 0 0 0 0 0 0 0 0 0 0\n",
            "545| 0 0 0 0 0 1.0 0 0 0 0\n"
          ]
        }
      ]
    },
    {
      "cell_type": "markdown",
      "source": [
        "### Representation Alternatives for Order N > 1\n",
        "Other alternatives for representing the series based on N-monthly beer production in Australia would be to readjust the series by summing the elements of the N-groups. For example:\n",
        "\n",
        "4,4,3,2,1,3,2,1,3,3\n",
        "with N=2 is:\n",
        "\n",
        "(4,4),(3,2),(1,3),(2,1),(3,3) This could be represented by their sum (since N-monthly production is the sum).\n",
        "\n",
        "(4+4),(3+2),(1+3),(2+1),(3+3) = **8,5,4,3,6**\n",
        "\n",
        "With this sum, it would be necessary to redefine a vocabulary **Σ'** which includes all the symbols from **Σ** plus the sums that occur between them as integers.\n",
        "\n",
        "**Σ'** = ( 0,1,2... max(**Σ**) x 2 )\n",
        "\n",
        "The same criterion could be applied for any order.\n",
        "\n",
        "**Σ'** = ( 0,1,2... max(**Σ**) x **N** )\n"
      ],
      "metadata": {
        "id": "80kNMkRM1seL"
      }
    }
  ]
}